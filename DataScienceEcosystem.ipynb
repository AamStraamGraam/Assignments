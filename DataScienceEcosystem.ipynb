{
 "cells": [
  {
   "cell_type": "markdown",
   "id": "cc12ace4-cb46-4fb5-a133-2939d8e89625",
   "metadata": {},
   "source": [
    "# Data Science Tools and Ecosystem"
   ]
  },
  {
   "cell_type": "markdown",
   "id": "ac056a7c-d370-4ad7-b3ab-c14dd751f71c",
   "metadata": {},
   "source": [
    "In this notebook, Data Science Tools and Ecosystem are summarized."
   ]
  },
  {
   "cell_type": "markdown",
   "id": "fb533109-ddeb-458f-b328-10dd5898d0ba",
   "metadata": {},
   "source": [
    "**Objectives:**\n",
    "* Listing populat languages for Data Science\n",
    "* Listing commonly used libraries for Data Science\n",
    "* Listing tools for Data Science\n",
    "* Producing examples for simple Python use"
   ]
  },
  {
   "cell_type": "markdown",
   "id": "dad6efb7-a610-49ac-8276-60d34a204f28",
   "metadata": {},
   "source": [
    "Some of the popular languages that Data Scientists use are:\n",
    "1. Python\n",
    "2. R\n",
    "3. Julya"
   ]
  },
  {
   "cell_type": "markdown",
   "id": "2cbcc673-0e16-45f3-a044-188842b908c0",
   "metadata": {},
   "source": [
    "Some of the commonly used libraries used by Data Scientists include:\n",
    "1. pandas\n",
    "2. matplotlib\n",
    "3. ggplot\n",
    "4. lattice"
   ]
  },
  {
   "cell_type": "markdown",
   "id": "c4737c71-c656-43a6-af05-d195e7f401a2",
   "metadata": {},
   "source": [
    "|Data Science Tools|\n",
    "-------------------\n",
    "|Jupyter Lab       |\n",
    "|R Studio          |\n",
    "|Apache Spark      |"
   ]
  },
  {
   "cell_type": "markdown",
   "id": "69038e12-bc48-4477-b785-c4e1a8e672c6",
   "metadata": {},
   "source": [
    "### Below are a few examples of evaluating arithmetic expressions in Python."
   ]
  },
  {
   "cell_type": "code",
   "execution_count": 9,
   "id": "8fbca01b-c19f-4d0d-a4c4-7bdcca05ea65",
   "metadata": {},
   "outputs": [
    {
     "data": {
      "text/plain": [
       "17"
      ]
     },
     "execution_count": 9,
     "metadata": {},
     "output_type": "execute_result"
    }
   ],
   "source": [
    "##This a simple arithmetic expression to mutiply then add integers\n",
    "(3*4)+5"
   ]
  },
  {
   "cell_type": "code",
   "execution_count": 19,
   "id": "b048f031-51f1-456c-aa40-d64014d50cb1",
   "metadata": {},
   "outputs": [
    {
     "name": "stdout",
     "output_type": "stream",
     "text": [
      "200 minutes converts into 3.33 hours\n"
     ]
    }
   ],
   "source": [
    "##This will convert 200 minutes to hours by dividing by 60\n",
    "timeInMinutes = 200\n",
    "timeInHours = round(timeInMinutes/60,2)\n",
    "print(f'{timeInMinutes} minutes converts into {timeInHours} hours')"
   ]
  },
  {
   "cell_type": "markdown",
   "id": "7c919725-1be5-498b-afe2-d853343d28e2",
   "metadata": {},
   "source": [
    "## Author\n",
    "Caroline Thaon d'Arnoldi"
   ]
  },
  {
   "cell_type": "code",
   "execution_count": null,
   "id": "0fe0a2ab-bdc0-45bc-a3df-07fc27637730",
   "metadata": {},
   "outputs": [],
   "source": []
  }
 ],
 "metadata": {
  "kernelspec": {
   "display_name": "Python 3 (ipykernel)",
   "language": "python",
   "name": "python3"
  },
  "language_info": {
   "codemirror_mode": {
    "name": "ipython",
    "version": 3
   },
   "file_extension": ".py",
   "mimetype": "text/x-python",
   "name": "python",
   "nbconvert_exporter": "python",
   "pygments_lexer": "ipython3",
   "version": "3.12.4"
  }
 },
 "nbformat": 4,
 "nbformat_minor": 5
}
